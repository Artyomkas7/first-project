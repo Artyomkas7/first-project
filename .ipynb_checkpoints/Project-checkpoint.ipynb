{
 "cells": [
  {
   "cell_type": "code",
   "execution_count": 1,
   "id": "94d3bef8-85bd-455c-b7ac-5b1a8e2291d8",
   "metadata": {},
   "outputs": [],
   "source": [
    "import pandas as pd"
   ]
  },
  {
   "cell_type": "code",
   "execution_count": 3,
   "id": "c3eb5ecb-fd04-40c6-b1c5-239c2b38deed",
   "metadata": {},
   "outputs": [],
   "source": [
    "import numpy as np"
   ]
  },
  {
   "cell_type": "markdown",
   "id": "920ce183-f79c-4436-a3b8-3eae4210ccbf",
   "metadata": {},
   "source": [
    "You\n"
   ]
  },
  {
   "cell_type": "markdown",
   "id": "517f8fba-3fa7-4e02-a4b7-eed37471c30c",
   "metadata": {},
   "source": [
    "Che po chem hokkey s mechom"
   ]
  },
  {
   "cell_type": "markdown",
   "id": "d11331d0-aafb-4ac7-b552-cb24972afb9d",
   "metadata": {},
   "source": [
    "LOOOOL"
   ]
  }
 ],
 "metadata": {
  "kernelspec": {
   "display_name": "Python 3 (ipykernel)",
   "language": "python",
   "name": "python3"
  },
  "language_info": {
   "codemirror_mode": {
    "name": "ipython",
    "version": 3
   },
   "file_extension": ".py",
   "mimetype": "text/x-python",
   "name": "python",
   "nbconvert_exporter": "python",
   "pygments_lexer": "ipython3",
   "version": "3.11.3"
  }
 },
 "nbformat": 4,
 "nbformat_minor": 5
}
